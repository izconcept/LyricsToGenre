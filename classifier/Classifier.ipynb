{
 "cells": [
  {
   "cell_type": "markdown",
   "metadata": {},
   "source": [
    "# Classifier\n",
    "\n",
    "Classifiers used to classify a song genre given its lyrics"
   ]
  },
  {
   "cell_type": "markdown",
   "metadata": {},
   "source": [
    "## Loading and Processing Dataset"
   ]
  },
  {
   "cell_type": "code",
   "execution_count": 2,
   "metadata": {},
   "outputs": [],
   "source": [
    "import pandas as pd\n",
    "import numpy as np\n",
    "import matplotlib.pyplot as plt\n",
    "from sklearn.metrics import accuracy_score\n",
    "from sklearn.model_selection import GridSearchCV\n",
    "\n",
    "filename = '../data/dataset.csv'\n",
    "\n",
    "df = pd.read_csv(filename, header=None, names=[\"artist\", \"song\", \"genre\", \"tokens\"])\n",
    "\n",
    "def to_list(x):\n",
    "    return x[1:-1].split(',')\n",
    "\n",
    "df['tokens'] = df['tokens'].apply(to_list)"
   ]
  },
  {
   "cell_type": "code",
   "execution_count": 3,
   "metadata": {},
   "outputs": [],
   "source": [
    "from ast import literal_eval\n",
    "from sklearn.feature_extraction.text import TfidfVectorizer\n",
    "\n",
    "data = df.values\n",
    "\n",
    "def unison_shuffled_copies(a, b):\n",
    "    assert a.shape[0] == b.shape[0]\n",
    "    p = np.random.permutation(a.shape[0])\n",
    "    return a[p], b[p]\n",
    "\n",
    "def dummy_fun(x):\n",
    "    return x\n",
    "\n",
    "tfidf = TfidfVectorizer(\n",
    "    analyzer='word',\n",
    "    tokenizer=dummy_fun,\n",
    "    preprocessor=dummy_fun,\n",
    "    token_pattern=None)  \n",
    "\n",
    "X = tfidf.fit_transform(data[:,3])\n",
    "Y = data[:, 2]\n",
    "\n",
    "X, Y = unison_shuffled_copies(X, Y)\n",
    "\n",
    "X_train = X[:4800]\n",
    "X_valid = X[4800:5500]\n",
    "X_test = X[5500:]\n",
    "\n",
    "Y_train = Y[:4800]\n",
    "Y_valid = Y[4800:5500]\n",
    "Y_test = Y[5500:]"
   ]
  },
  {
   "cell_type": "markdown",
   "metadata": {},
   "source": [
    "## Naive Bayes"
   ]
  },
  {
   "cell_type": "code",
   "execution_count": 4,
   "metadata": {},
   "outputs": [
    {
     "name": "stderr",
     "output_type": "stream",
     "text": [
      "/Users/IzKevin/anaconda3/lib/python3.6/site-packages/sklearn/naive_bayes.py:472: UserWarning: alpha too small will result in numeric errors, setting alpha = 1.0e-10\n",
      "  'setting alpha = %.1e' % _ALPHA_MIN)\n"
     ]
    },
    {
     "name": "stdout",
     "output_type": "stream",
     "text": [
      "Alpha: 0, Validation Accuracy: 0.6628571428571428\n",
      "Alpha: 0.2, Validation Accuracy: 0.6214285714285714\n",
      "Alpha: 0.6, Validation Accuracy: 0.61\n",
      "Alpha: 1.0, Validation Accuracy: 0.6\n",
      "Alpha: 2.0, Validation Accuracy: 0.5857142857142857\n",
      "Alpha: 5.0, Validation Accuracy: 0.5628571428571428\n",
      "Alpha: 10.0, Validation Accuracy: 0.5471428571428572\n"
     ]
    }
   ],
   "source": [
    "from sklearn.naive_bayes import MultinomialNB\n",
    "\n",
    "alpha_params = [0, 0.2, 0.6, 1.0, 2.0, 5.0, 10.0]\n",
    "\n",
    "best_alpha, best_score = alpha_params[0], 0\n",
    "scores = []\n",
    "for alpha in alpha_params:\n",
    "    nb_model = MultinomialNB(alpha=alpha).fit(X_train, Y_train)\n",
    "    \n",
    "    predicted = nb_model.predict(X_valid)\n",
    "    score = accuracy_score(predicted, Y_valid)\n",
    "    if score > best_score: \n",
    "        best_score = score\n",
    "        best_alpha = alpha\n",
    "    scores.append(score)\n",
    "    print(f\"Alpha: {alpha}, Validation Accuracy: {score}\")"
   ]
  },
  {
   "cell_type": "code",
   "execution_count": 5,
   "metadata": {},
   "outputs": [
    {
     "data": {
      "image/png": "[encoded data removed]",
      "text/plain": [
       "<Figure size 432x288 with 1 Axes>"
      ]
     },
     "metadata": {},
     "output_type": "display_data"
    },
    {
     "name": "stdout",
     "output_type": "stream",
     "text": [
      "Naive Bayes Test Accuracy: 0.6713735558408216\n"
     ]
    },
    {
     "name": "stderr",
     "output_type": "stream",
     "text": [
      "/Users/IzKevin/anaconda3/lib/python3.6/site-packages/sklearn/naive_bayes.py:472: UserWarning: alpha too small will result in numeric errors, setting alpha = 1.0e-10\n",
      "  'setting alpha = %.1e' % _ALPHA_MIN)\n"
     ]
    }
   ],
   "source": [
    "plt.plot(alpha_params, scores)\n",
    "plt.ylabel('Accuracy')\n",
    "plt.title('Multinomial NB: Alpha & Accuracy')\n",
    "plt.xlabel('Alpha')\n",
    "plt.savefig('nb.png')\n",
    "plt.show()\n",
    "\n",
    "nb_model = MultinomialNB(alpha=best_alpha).fit(X_train, Y_train)\n",
    "predicted = nb_model.predict(X_test)\n",
    "score = accuracy_score(predicted, Y_test)\n",
    "print(f\"Naive Bayes Test Accuracy: {score}\")"
   ]
  },
  {
   "cell_type": "markdown",
   "metadata": {},
   "source": [
    "## Logistic Regression"
   ]
  },
  {
   "cell_type": "code",
   "execution_count": 6,
   "metadata": {},
   "outputs": [
    {
     "name": "stdout",
     "output_type": "stream",
     "text": [
      "C: 0.1, Validation Accuracy: 0.6114285714285714\n",
      "C: 0.2, Validation Accuracy: 0.6528571428571428\n",
      "C: 0.4, Validation Accuracy: 0.6828571428571428\n",
      "C: 0.7, Validation Accuracy: 0.6957142857142857\n",
      "C: 1.0, Validation Accuracy: 0.7157142857142857\n",
      "C: 2.0, Validation Accuracy: 0.7157142857142857\n",
      "C: 3.5, Validation Accuracy: 0.72\n",
      "C: 5.0, Validation Accuracy: 0.7214285714285714\n",
      "C: 10.0, Validation Accuracy: 0.7271428571428571\n",
      "C: 20.0, Validation Accuracy: 0.72\n"
     ]
    }
   ],
   "source": [
    "from sklearn.linear_model import LogisticRegression\n",
    "\n",
    "c_params = [0.1, 0.2, 0.4, 0.7, 1.0, 2.0, 3.5, 5.0, 10.0, 20.0]\n",
    "\n",
    "best_c, best_score = c_params[0], 0\n",
    "scores = []\n",
    "for c in c_params:\n",
    "    lr_model = LogisticRegression(C = c).fit(X_train, Y_train)\n",
    "    \n",
    "    predicted = lr_model.predict(X_valid)\n",
    "    score = accuracy_score(predicted, Y_valid)\n",
    "    if score > best_score: \n",
    "        best_score = score\n",
    "        best_c = c\n",
    "    scores.append(score)\n",
    "    print(f\"C: {c}, Validation Accuracy: {score}\")\n"
   ]
  },
  {
   "cell_type": "code",
   "execution_count": 7,
   "metadata": {},
   "outputs": [
    {
     "data": {
      "image/png": "[encoded data removed]",
      "text/plain": [
       "<Figure size 432x288 with 1 Axes>"
      ]
     },
     "metadata": {},
     "output_type": "display_data"
    },
    {
     "name": "stdout",
     "output_type": "stream",
     "text": [
      "Logistic Regression Test Accuracy: 0.7034659820282413\n"
     ]
    }
   ],
   "source": [
    "plt.plot(c_params, scores)\n",
    "plt.ylabel('Accuracy')\n",
    "plt.title('Logistic Regression: Regularization (C) & Accuracy')\n",
    "plt.xlabel('C')\n",
    "plt.savefig('lr.png')\n",
    "plt.show()\n",
    "\n",
    "nb_model = LogisticRegression(C=best_c).fit(X_train, Y_train)\n",
    "predicted = nb_model.predict(X_test)\n",
    "score = accuracy_score(predicted, Y_test)\n",
    "print(f\"Logistic Regression Test Accuracy: {score}\")"
   ]
  },
  {
   "cell_type": "markdown",
   "metadata": {},
   "source": [
    "## Support Vector Machine"
   ]
  },
  {
   "cell_type": "code",
   "execution_count": 8,
   "metadata": {},
   "outputs": [
    {
     "name": "stdout",
     "output_type": "stream",
     "text": [
      "C: 0.1, Validation Accuracy: 0.5971428571428572\n",
      "C: 0.5, Validation Accuracy: 0.6971428571428572\n",
      "C: 1.0, Validation Accuracy: 0.7085714285714285\n",
      "C: 1.5, Validation Accuracy: 0.7142857142857143\n",
      "C: 2.0, Validation Accuracy: 0.7285714285714285\n",
      "C: 2.5, Validation Accuracy: 0.7085714285714285\n",
      "C: 5.0, Validation Accuracy: 0.6871428571428572\n",
      "C: 10.0, Validation Accuracy: 0.6785714285714286\n"
     ]
    }
   ],
   "source": [
    "from sklearn.svm import SVC\n",
    "\n",
    "c_params = [0.1, 0.5, 1.0, 1.5, 2.0, 2.5, 5.0, 10.0]\n",
    "\n",
    "best_c, best_score = c_params[0], 0\n",
    "scores = []\n",
    "for c in c_params:\n",
    "    svc = SVC(kernel='linear', C=c).fit(X_train, Y_train)\n",
    "    \n",
    "    predicted = svc.predict(X_valid)\n",
    "    score = accuracy_score(predicted, Y_valid)\n",
    "    if score > best_score: \n",
    "        best_score = score\n",
    "        best_c = c\n",
    "    scores.append(score)\n",
    "    print(f\"C: {c}, Validation Accuracy: {score}\")"
   ]
  },
  {
   "cell_type": "code",
   "execution_count": 9,
   "metadata": {},
   "outputs": [
    {
     "data": {
      "image/png": "[encoded data removed]",
      "text/plain": [
       "<Figure size 432x288 with 1 Axes>"
      ]
     },
     "metadata": {},
     "output_type": "display_data"
    },
    {
     "name": "stdout",
     "output_type": "stream",
     "text": [
      "SVM Test Accuracy: 0.7163029525032092\n"
     ]
    }
   ],
   "source": [
    "plt.plot(c_params, scores)\n",
    "plt.ylabel('Accuracy')\n",
    "plt.title('SVM: Penalty (C) & Accuracy')\n",
    "plt.xlabel('C')\n",
    "plt.savefig('svm.png')\n",
    "plt.show()\n",
    "\n",
    "nb_model = LogisticRegression(C=best_c).fit(X_train, Y_train)\n",
    "predicted = nb_model.predict(X_test)\n",
    "score = accuracy_score(predicted, Y_test)\n",
    "print(f\"SVM Test Accuracy: {score}\")"
   ]
  },
  {
   "cell_type": "markdown",
   "metadata": {},
   "source": [
    "## Random Forests"
   ]
  },
  {
   "cell_type": "code",
   "execution_count": 22,
   "metadata": {},
   "outputs": [
    {
     "name": "stdout",
     "output_type": "stream",
     "text": [
      "Best parameters set found on development set:\n",
      "\n",
      "{'max_depth': 60, 'min_samples_split': 4, 'n_estimators': 60}\n",
      "\n",
      "Grid scores on development set:\n",
      "\n",
      "0.461 (+/-0.045) for {'max_depth': 5, 'min_samples_split': 2, 'n_estimators': 10}\n",
      "0.468 (+/-0.031) for {'max_depth': 5, 'min_samples_split': 2, 'n_estimators': 20}\n",
      "0.471 (+/-0.030) for {'max_depth': 5, 'min_samples_split': 2, 'n_estimators': 40}\n",
      "0.490 (+/-0.029) for {'max_depth': 5, 'min_samples_split': 2, 'n_estimators': 60}\n",
      "0.461 (+/-0.026) for {'max_depth': 5, 'min_samples_split': 4, 'n_estimators': 10}\n",
      "0.474 (+/-0.013) for {'max_depth': 5, 'min_samples_split': 4, 'n_estimators': 20}\n",
      "0.482 (+/-0.025) for {'max_depth': 5, 'min_samples_split': 4, 'n_estimators': 40}\n",
      "0.487 (+/-0.011) for {'max_depth': 5, 'min_samples_split': 4, 'n_estimators': 60}\n",
      "0.458 (+/-0.034) for {'max_depth': 5, 'min_samples_split': 8, 'n_estimators': 10}\n",
      "0.465 (+/-0.032) for {'max_depth': 5, 'min_samples_split': 8, 'n_estimators': 20}\n",
      "0.477 (+/-0.020) for {'max_depth': 5, 'min_samples_split': 8, 'n_estimators': 40}\n",
      "0.488 (+/-0.012) for {'max_depth': 5, 'min_samples_split': 8, 'n_estimators': 60}\n",
      "0.518 (+/-0.023) for {'max_depth': 10, 'min_samples_split': 2, 'n_estimators': 10}\n",
      "0.527 (+/-0.025) for {'max_depth': 10, 'min_samples_split': 2, 'n_estimators': 20}\n",
      "0.533 (+/-0.029) for {'max_depth': 10, 'min_samples_split': 2, 'n_estimators': 40}\n",
      "0.543 (+/-0.030) for {'max_depth': 10, 'min_samples_split': 2, 'n_estimators': 60}\n",
      "0.514 (+/-0.021) for {'max_depth': 10, 'min_samples_split': 4, 'n_estimators': 10}\n",
      "0.517 (+/-0.016) for {'max_depth': 10, 'min_samples_split': 4, 'n_estimators': 20}\n",
      "0.534 (+/-0.019) for {'max_depth': 10, 'min_samples_split': 4, 'n_estimators': 40}\n",
      "0.536 (+/-0.017) for {'max_depth': 10, 'min_samples_split': 4, 'n_estimators': 60}\n",
      "0.508 (+/-0.029) for {'max_depth': 10, 'min_samples_split': 8, 'n_estimators': 10}\n",
      "0.534 (+/-0.024) for {'max_depth': 10, 'min_samples_split': 8, 'n_estimators': 20}\n",
      "0.539 (+/-0.035) for {'max_depth': 10, 'min_samples_split': 8, 'n_estimators': 40}\n",
      "0.539 (+/-0.018) for {'max_depth': 10, 'min_samples_split': 8, 'n_estimators': 60}\n",
      "0.585 (+/-0.017) for {'max_depth': 20, 'min_samples_split': 2, 'n_estimators': 10}\n",
      "0.595 (+/-0.022) for {'max_depth': 20, 'min_samples_split': 2, 'n_estimators': 20}\n",
      "0.609 (+/-0.011) for {'max_depth': 20, 'min_samples_split': 2, 'n_estimators': 40}\n",
      "0.617 (+/-0.012) for {'max_depth': 20, 'min_samples_split': 2, 'n_estimators': 60}\n",
      "0.573 (+/-0.023) for {'max_depth': 20, 'min_samples_split': 4, 'n_estimators': 10}\n",
      "0.598 (+/-0.032) for {'max_depth': 20, 'min_samples_split': 4, 'n_estimators': 20}\n",
      "0.613 (+/-0.031) for {'max_depth': 20, 'min_samples_split': 4, 'n_estimators': 40}\n",
      "0.614 (+/-0.018) for {'max_depth': 20, 'min_samples_split': 4, 'n_estimators': 60}\n",
      "0.574 (+/-0.027) for {'max_depth': 20, 'min_samples_split': 8, 'n_estimators': 10}\n",
      "0.593 (+/-0.029) for {'max_depth': 20, 'min_samples_split': 8, 'n_estimators': 20}\n",
      "0.603 (+/-0.034) for {'max_depth': 20, 'min_samples_split': 8, 'n_estimators': 40}\n",
      "0.606 (+/-0.024) for {'max_depth': 20, 'min_samples_split': 8, 'n_estimators': 60}\n",
      "0.617 (+/-0.015) for {'max_depth': 35, 'min_samples_split': 2, 'n_estimators': 10}\n",
      "0.648 (+/-0.025) for {'max_depth': 35, 'min_samples_split': 2, 'n_estimators': 20}\n",
      "0.663 (+/-0.033) for {'max_depth': 35, 'min_samples_split': 2, 'n_estimators': 40}\n",
      "0.669 (+/-0.019) for {'max_depth': 35, 'min_samples_split': 2, 'n_estimators': 60}\n",
      "0.611 (+/-0.043) for {'max_depth': 35, 'min_samples_split': 4, 'n_estimators': 10}\n",
      "0.649 (+/-0.016) for {'max_depth': 35, 'min_samples_split': 4, 'n_estimators': 20}\n",
      "0.660 (+/-0.020) for {'max_depth': 35, 'min_samples_split': 4, 'n_estimators': 40}\n",
      "0.665 (+/-0.015) for {'max_depth': 35, 'min_samples_split': 4, 'n_estimators': 60}\n",
      "0.615 (+/-0.040) for {'max_depth': 35, 'min_samples_split': 8, 'n_estimators': 10}\n",
      "0.642 (+/-0.036) for {'max_depth': 35, 'min_samples_split': 8, 'n_estimators': 20}\n",
      "0.660 (+/-0.013) for {'max_depth': 35, 'min_samples_split': 8, 'n_estimators': 40}\n",
      "0.669 (+/-0.007) for {'max_depth': 35, 'min_samples_split': 8, 'n_estimators': 60}\n",
      "0.631 (+/-0.019) for {'max_depth': 60, 'min_samples_split': 2, 'n_estimators': 10}\n",
      "0.661 (+/-0.025) for {'max_depth': 60, 'min_samples_split': 2, 'n_estimators': 20}\n",
      "0.679 (+/-0.027) for {'max_depth': 60, 'min_samples_split': 2, 'n_estimators': 40}\n",
      "0.692 (+/-0.020) for {'max_depth': 60, 'min_samples_split': 2, 'n_estimators': 60}\n",
      "0.641 (+/-0.023) for {'max_depth': 60, 'min_samples_split': 4, 'n_estimators': 10}\n",
      "0.674 (+/-0.016) for {'max_depth': 60, 'min_samples_split': 4, 'n_estimators': 20}\n",
      "0.682 (+/-0.020) for {'max_depth': 60, 'min_samples_split': 4, 'n_estimators': 40}\n",
      "0.697 (+/-0.026) for {'max_depth': 60, 'min_samples_split': 4, 'n_estimators': 60}\n",
      "0.639 (+/-0.032) for {'max_depth': 60, 'min_samples_split': 8, 'n_estimators': 10}\n",
      "0.665 (+/-0.020) for {'max_depth': 60, 'min_samples_split': 8, 'n_estimators': 20}\n",
      "0.687 (+/-0.025) for {'max_depth': 60, 'min_samples_split': 8, 'n_estimators': 40}\n",
      "0.697 (+/-0.022) for {'max_depth': 60, 'min_samples_split': 8, 'n_estimators': 60}\n"
     ]
    }
   ],
   "source": [
    "from sklearn.ensemble import RandomForestClassifier\n",
    "\n",
    "parameters = [{\"n_estimators\": [10, 20, 40, 60], \"max_depth\": [5, 10, 20, 35, 60], \"min_samples_split\": [2, 4, 8]}]\n",
    "\n",
    "clf = GridSearchCV(RandomForestClassifier(), parameters, cv=5)\n",
    "clf.fit(X_train, Y_train)\n",
    "\n",
    "print(\"Best parameters set found on development set:\")\n",
    "print()\n",
    "print(clf.best_params_)\n",
    "print()\n",
    "print(\"Grid scores on development set:\")\n",
    "print()\n",
    "means = clf.cv_results_['mean_test_score']\n",
    "stds = clf.cv_results_['std_test_score']\n",
    "for mean, std, params in zip(means, stds, clf.cv_results_['params']):\n",
    "    print(\"%0.3f (+/-%0.03f) for %r\" % (mean, std * 2, params))"
   ]
  },
  {
   "cell_type": "code",
   "execution_count": 10,
   "metadata": {},
   "outputs": [
    {
     "name": "stdout",
     "output_type": "stream",
     "text": [
      "SVM Test Accuracy: 0.7047496790757382\n"
     ]
    }
   ],
   "source": [
    "from sklearn.ensemble import RandomForestClassifier\n",
    "clf = RandomForestClassifier(max_depth = 60, n_estimators= 60, min_samples_split = 4).fit(X_train, Y_train)\n",
    "\n",
    "predicted = clf.predict(X_test)\n",
    "score = accuracy_score(predicted, Y_test)\n",
    "print(f\"SVM Test Accuracy: {score}\")"
   ]
  },
  {
   "cell_type": "markdown",
   "metadata": {},
   "source": [
    "# Kaggle Dataset"
   ]
  },
  {
   "cell_type": "code",
   "execution_count": 12,
   "metadata": {},
   "outputs": [
    {
     "name": "stderr",
     "output_type": "stream",
     "text": [
      "/Users/IzKevin/anaconda3/lib/python3.6/site-packages/ipykernel_launcher.py:2: VisibleDeprecationWarning: Reading unicode strings without specifying the encoding argument is deprecated. Set the encoding, use None for the system default.\n",
      "  \n"
     ]
    }
   ],
   "source": [
    "from numpy import genfromtxt\n",
    "kaggle_data = genfromtxt('clean_data.csv', delimiter=',', dtype=None)"
   ]
  },
  {
   "cell_type": "code",
   "execution_count": 15,
   "metadata": {},
   "outputs": [],
   "source": [
    "from sklearn.feature_extraction.text import CountVectorizer\n",
    "from sklearn.feature_extraction.text import TfidfTransformer\n",
    "\n",
    "Y = kaggle_data[:,0]\n",
    "\n",
    "count_vect = CountVectorizer()\n",
    "X = count_vect.fit_transform(kaggle_data[:,1])\n",
    "\n",
    "tfidf_transformer = TfidfTransformer()\n",
    "X = tfidf_transformer.fit_transform(X)\n",
    "\n",
    "X_train = X[:250000]\n",
    "Y_train = Y[:250000]\n",
    "\n",
    "X_test = X[250000:]\n",
    "Y_test = Y[250000:]"
   ]
  },
  {
   "cell_type": "code",
   "execution_count": null,
   "metadata": {},
   "outputs": [],
   "source": []
  }
 ],
 "metadata": {
  "kernelspec": {
   "display_name": "Python 3",
   "language": "python",
   "name": "python3"
  },
  "language_info": {
   "codemirror_mode": {
    "name": "ipython",
    "version": 3
   },
   "file_extension": ".py",
   "mimetype": "text/x-python",
   "name": "python",
   "nbconvert_exporter": "python",
   "pygments_lexer": "ipython3",
   "version": "3.6.5"
  }
 },
 "nbformat": 4,
 "nbformat_minor": 2
}
